{
 "cells": [
  {
   "cell_type": "markdown",
   "metadata": {
    "slideshow": {
     "slide_type": "slide"
    }
   },
   "source": [
    "# ArviZ Stancon 2020\n",
    "We're gonna talk about some real cool stuff\n"
   ]
  },
  {
   "cell_type": "markdown",
   "metadata": {
    "slideshow": {
     "slide_type": "slide"
    }
   },
   "source": [
    "### Helpful links\n",
    "https://www.markroepke.me/posts/2019/05/23/creating-interactive-slideshows-in-jupyter.html  \n",
    "https://www.markroepke.me/posts/2019/06/05/tips-for-slideshows-in-jupyter.html  \n",
    "https://fedebarabas.github.io/blog/jupyter_slides/  \n",
    "https://medium.com/@mjspeck/presenting-code-using-jupyter-notebook-slides-a8a3c3b59d67  \n",
    "https://github.com/jupyterlab/jupyterlab/issues/5018  \n",
    "https://towardsdatascience.com/7-essential-tips-for-writing-with-jupyter-notebook-60972a1a8901  \n",
    "https://www.blog.pythonlibrary.org/2018/09/25/creating-presentations-with-jupyter-notebook/  "
   ]
  },
  {
   "cell_type": "markdown",
   "metadata": {
    "slideshow": {
     "slide_type": "subslide"
    }
   },
   "source": [
    "# This is a subslide\n",
    "Let's see what it looks like"
   ]
  },
  {
   "cell_type": "markdown",
   "metadata": {
    "slideshow": {
     "slide_type": "fragment"
    }
   },
   "source": [
    "# This is a fragment\n",
    "Let's see what it looks like"
   ]
  },
  {
   "cell_type": "markdown",
   "metadata": {
    "slideshow": {
     "slide_type": "slide"
    }
   },
   "source": [
    "# Presentation Start"
   ]
  },
  {
   "cell_type": "markdown",
   "metadata": {
    "slideshow": {
     "slide_type": "slide"
    }
   },
   "source": [
    "# ArviZ and Inference Data\n",
    "Making the lives of Bayesians better\n",
    "\n",
    "## Agenda\n",
    "* The Bayesian Workflow\n",
    "* Where ArviZ fits in\n",
    "* Where InferenceData fits in\n",
    "* Where the community fits\n",
    "* What doesn't quite fit in (yet)\n",
    "* Where you fit in"
   ]
  },
  {
   "cell_type": "markdown",
   "metadata": {},
   "source": [
    "# Bayesian Workflow\n",
    "There's so many steps. PPLs only help out with a couple. ArviZ helps out with these ones. Lets add some colors and a legend so things are more obvious\n",
    "![Workflow](img/Bayesian_workflow.png)"
   ]
  },
  {
   "cell_type": "markdown",
   "metadata": {
    "slideshow": {
     "slide_type": "slide"
    }
   },
   "source": [
    "# There’s a lot of PPLs making numbers and samples\n",
    "\n",
    "![Stan](https://raw.githubusercontent.com/stan-dev/logos/master/logo_tm.png)\n",
    "![Stan](https://cdn.rawgit.com/pymc-devs/pymc3/master/docs/logos/svg/PyMC3_banner.svg)\n",
    "\n",
    "\n"
   ]
  }
 ],
 "metadata": {
  "celltoolbar": "Slideshow",
  "kernelspec": {
   "display_name": "Python 3",
   "language": "python",
   "name": "python3"
  },
  "language_info": {
   "codemirror_mode": {
    "name": "ipython",
    "version": 3
   },
   "file_extension": ".py",
   "mimetype": "text/x-python",
   "name": "python",
   "nbconvert_exporter": "python",
   "pygments_lexer": "ipython3",
   "version": "3.6.9"
  }
 },
 "nbformat": 4,
 "nbformat_minor": 4
}
